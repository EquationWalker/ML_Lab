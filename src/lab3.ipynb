{
 "cells": [
  {
   "cell_type": "code",
   "execution_count": 82,
   "metadata": {},
   "outputs": [
    {
     "name": "stderr",
     "output_type": "stream",
     "text": [
      "Setting up a new session...\n"
     ]
    }
   ],
   "source": [
    "import torch\n",
    "from torch import nn\n",
    "from torch.utils.data import TensorDataset, DataLoader\n",
    "from sklearn.datasets import fetch_california_housing\n",
    "from sklearn.model_selection import train_test_split\n",
    "import numpy as np\n",
    "from sklearn.preprocessing import StandardScaler\n",
    "from sklearn.metrics import mean_absolute_error\n",
    "from visdom import Visdom\n",
    "import plotly.graph_objects as go\n",
    "import plotly.figure_factory as ff\n",
    "viz = Visdom()"
   ]
  },
  {
   "cell_type": "code",
   "execution_count": 91,
   "metadata": {},
   "outputs": [],
   "source": [
    "# 加载数据集\n",
    "def load_housing_data(batch_size=256, test_size=0.3):\n",
    "    df = fetch_california_housing()\n",
    "    X, y = df.data, df.target\n",
    "    y = y.reshape(-1, 1)\n",
    "    X_train, X_test, y_train, y_test = train_test_split(X, y, test_size=test_size)\n",
    "    ss = StandardScaler()\n",
    "    X_train = ss.fit_transform(X_train)\n",
    "    X_test = ss.transform(X_test)\n",
    "    # 绘制heatmap\n",
    "    names = df.feature_names\n",
    "    names.append('target')\n",
    "    data = np.concatenate((y_train, X_train), axis=1)\n",
    "    data = np.corrcoef(data, rowvar=0)\n",
    "    fig = ff.create_annotated_heatmap(z=data, x=names, y=names, \n",
    "                                      annotation_text=np.around(data, decimals=2) , \n",
    "                                  colorscale='YlGnBu')\n",
    "    fig.update_layout(title ='训练数据相关系数热力图')\n",
    "    fig.update_xaxes(side=\"bottom\")\n",
    "    viz.plotlyplot(fig, win='heatmap')\n",
    "    X_train, y_train = torch.from_numpy(X_train.astype(np.float32)), torch.from_numpy(y_train.astype(np.float32))\n",
    "    X_test, y_test = torch.from_numpy(X_test.astype(np.float32)), torch.from_numpy(y_test.astype(np.float32))\n",
    "    train_dataset = TensorDataset(X_train, y_train)\n",
    "    return (DataLoader(train_dataset, batch_size, \n",
    "\t\t\t\t\tshuffle=True), (X_test, y_test))"
   ]
  },
  {
   "cell_type": "code",
   "execution_count": null,
   "metadata": {},
   "outputs": [],
   "source": [
    "# 定义网络\n",
    "class MlpNet(nn.Module):\n",
    "    def __init__(self, drop_prod=0.3):\n",
    "        super().__init__()\n",
    "        self.blocks = nn.Sequential(nn.Linear(8, 100), nn.ReLU(),\n",
    "                                    nn.Linear(100, 128), nn.Dropout(\n",
    "                                        drop_prod), nn.ReLU(),\n",
    "                                    nn.Linear(128, 50), nn.Dropout(\n",
    "                                        drop_prod), nn.ReLU(),\n",
    "                                    nn.Linear(50, 1))\n",
    "\n",
    "    def forward(self, X):\n",
    "        return self.blocks(X)\n"
   ]
  },
  {
   "cell_type": "code",
   "execution_count": null,
   "metadata": {},
   "outputs": [],
   "source": [
    "# 每一个训练epoch\n",
    "def train_epoch(model, train_loader, optimizer, loss_fn, epoch):\n",
    "    sz = len(train_loader.dataset)\n",
    "    num_batches = len(train_loader)\n",
    "    model.train()  # 将模型设置为训练模式\n",
    "    train_loss = 0\n",
    "\n",
    "    for batch_idx, (X, y) in enumerate(train_loader):\n",
    "        pred = model(X)\n",
    "        y = y.to(pred.device)\n",
    "        loss = loss_fn(pred, y)\n",
    "        # 梯度清零， 反向传播，更新网络参数\n",
    "        optimizer.zero_grad()\n",
    "        loss.backward()\n",
    "        optimizer.step()\n",
    "        # 记录损失与正确率\n",
    "        train_loss += loss.item() * X.shape[0]\n",
    "        if batch_idx % 20 == 0:\n",
    "            print('Train Epoch: {} [{}/{} ({:.0f}%)]\\tLoss: {:.6f}'.format(\n",
    "                epoch, batch_idx * len(X), sz,\n",
    "                100. * batch_idx / num_batches, loss.item()))\n",
    "    return train_loss / sz"
   ]
  },
  {
   "cell_type": "code",
   "execution_count": null,
   "metadata": {},
   "outputs": [],
   "source": [
    "def test(X_test, y_test, model):\n",
    "    y_pred = model(X_test).detach().cpu()[:, 0]\n",
    "    y_test = y_test.detach().cpu()[:, 0]\n",
    "    mae = mean_absolute_error(y_pred, y_test)\n",
    "    print(f'测试集上的绝对误差: {mae}')\n",
    "    index = np.argsort(y_test)\n",
    "    sc1 = go.Scatter(x=np.arange(len(y_test)), y=y_test[index], name='Original Y',\n",
    "                     mode='lines')\n",
    "    sc2 = go.Scatter(x=np.arange(len(y_pred)), y=y_pred[index], name='Prediction',\n",
    "                     mode='markers',\n",
    "                     marker=dict(size=4))\n",
    "    fig = go.Figure([sc2, sc1])\n",
    "    fig.update_layout(\n",
    "        xaxis_title=\"Index\",\n",
    "        yaxis_title=\"Y\",\n",
    "        font=dict(\n",
    "            family=\"Courier New, monospace\",\n",
    "            size=15,\n",
    "            color=\"RebeccaPurple\"\n",
    "        )\n",
    "    )\n",
    "    viz.plotlyplot(fig, win='test')\n"
   ]
  },
  {
   "cell_type": "code",
   "execution_count": null,
   "metadata": {},
   "outputs": [],
   "source": [
    "net = MlpNet()\n",
    "# 回归问题使用MSE作为损失函数\n",
    "loss_fn = nn.MSELoss()\n",
    "# 使用DP模式训练\n",
    "net = nn.DataParallel(net)\n",
    "# 使用AdamW更新参数\n",
    "trainer = torch.optim.Adam(net.parameters(), lr=0.01)\n",
    "# 获取训练数据集和测试数据集\n",
    "train_iter, test_dataset = load_housing_data()\n",
    "# 训练轮数\n",
    "num_epochs = 40\n",
    "# 记录损失和正确率\n",
    "train_all_loss = []\n",
    "for epoch in range(1, num_epochs + 1):\n",
    "    print(f\"Epoch {epoch}\\n-------------------------------\")\n",
    "    tmp = train_epoch(net, train_iter, trainer, loss_fn, epoch)\n",
    "    train_all_loss.append(tmp)"
   ]
  },
  {
   "cell_type": "code",
   "execution_count": null,
   "metadata": {},
   "outputs": [],
   "source": [
    "# 可视化训练损失\n",
    "viz.line(Y=train_all_loss, X=np.arange(len(train_all_loss)),\n",
    "         win='loss', opts=dict(legend=['Train loss'],\n",
    "                               title='Housing Price Prediction',\n",
    "                               xlabel='epoch', ylabel='loss',\n",
    "                               markers=True, markersize=7))\n"
   ]
  },
  {
   "cell_type": "code",
   "execution_count": null,
   "metadata": {},
   "outputs": [],
   "source": [
    "test(test_dataset[0], test_dataset[1], net)"
   ]
  }
 ],
 "metadata": {
  "kernelspec": {
   "display_name": "Python 3",
   "language": "python",
   "name": "python3"
  },
  "language_info": {
   "codemirror_mode": {
    "name": "ipython",
    "version": 3
   },
   "file_extension": ".py",
   "mimetype": "text/x-python",
   "name": "python",
   "nbconvert_exporter": "python",
   "pygments_lexer": "ipython3",
   "version": "3.8.11"
  }
 },
 "nbformat": 4,
 "nbformat_minor": 2
}
